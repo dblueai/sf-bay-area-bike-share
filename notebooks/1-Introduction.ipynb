{
 "cells": [
  {
   "cell_type": "markdown",
   "metadata": {
    "id": "Zm8oCWEcAPEI"
   },
   "source": [
    "# Introduction\n",
    "\n",
    "End-to-end machine learning project showing key aspects of developing and deploying real-life ML driven application. \n",
    "\n",
    "This includes,\n",
    "\n",
    "* EDA, data manipulation an preparation\n",
    "* Scraping additional features from external sources\n",
    "* Iterative process of building ML model\n",
    "* Wrapping it as Python module as transition from notebooks to production code\n",
    "* Using this module in Flask based microservice\n",
    "* Containerizing it with Docker, orchestring with Kubernetes and deploying on Google Cloud\n",
    "\n",
    "This basically covers full ML tech stack at the moment (maybe besides online learning, but thats for other time).\n",
    "\n",
    "We'll be using [SF Bay Area Bike Share](https://www.kaggle.com/benhamner/sf-bay-area-bike-share) dataset to model duration of bike travel across San Francisco. This project is all about tech stack and leveraging different tools and ML techniques to solve the problem."
   ]
  },
  {
   "cell_type": "markdown",
   "metadata": {},
   "source": [
    "## 1. Import dependencies"
   ]
  },
  {
   "cell_type": "code",
   "execution_count": 1,
   "metadata": {},
   "outputs": [],
   "source": [
    "import os\n",
    "import sqlite3\n",
    "import json\n",
    "\n",
    "from datetime import datetime\n",
    "\n",
    "import pandas as pd"
   ]
  },
  {
   "cell_type": "markdown",
   "metadata": {
    "id": "aVpg7nu7EGy8"
   },
   "source": [
    "## 2. Define paths"
   ]
  },
  {
   "cell_type": "code",
   "execution_count": 2,
   "metadata": {
    "id": "e6HhG5tp8Hmi"
   },
   "outputs": [],
   "source": [
    "input_data_path = os.path.join(\"..\", \"data\", \"input\")\n",
    "output_data_path = os.path.join(\"..\", \"data\", \"processed\")"
   ]
  },
  {
   "cell_type": "markdown",
   "metadata": {
    "id": "2-eZOMVw8Mgj"
   },
   "source": [
    "## 3. Database schema"
   ]
  },
  {
   "cell_type": "code",
   "execution_count": 3,
   "metadata": {
    "id": "7WKfhZ5l8uyT"
   },
   "outputs": [],
   "source": [
    "con = sqlite3.connect(os.path.join(input_data_path, 'database.sqlite'))\n",
    "cur = con.cursor()"
   ]
  },
  {
   "cell_type": "code",
   "execution_count": 4,
   "metadata": {
    "id": "Scq2bILp9Dkn"
   },
   "outputs": [],
   "source": [
    "cur.execute('SELECT name FROM sqlite_master')\n",
    "tables = cur.fetchall()"
   ]
  },
  {
   "cell_type": "code",
   "execution_count": 5,
   "metadata": {
    "colab": {
     "base_uri": "https://localhost:8080/",
     "height": 34
    },
    "id": "gF44ZpOGGbNM",
    "outputId": "33679f2b-c8b8-4d8a-8936-98c00bfe3787"
   },
   "outputs": [
    {
     "data": {
      "text/plain": [
       "[('station',), ('status',), ('trip',), ('weather',)]"
      ]
     },
     "execution_count": 5,
     "metadata": {},
     "output_type": "execute_result"
    }
   ],
   "source": [
    "tables"
   ]
  },
  {
   "cell_type": "code",
   "execution_count": 6,
   "metadata": {
    "id": "aodNeeLdGhRw"
   },
   "outputs": [],
   "source": [
    "schemas = {}\n",
    "\n",
    "for table in tables:\n",
    "  cur.execute('select * from {} limit 1'.format(table[0]))\n",
    "  schemas[table[0]] = [d[0] for d in cur.description]"
   ]
  },
  {
   "cell_type": "code",
   "execution_count": 7,
   "metadata": {
    "colab": {
     "base_uri": "https://localhost:8080/",
     "height": 34
    },
    "id": "MHuF560u9qBq",
    "outputId": "3b45c854-9d88-458c-dba2-86d16b2368e9"
   },
   "outputs": [
    {
     "data": {
      "text/plain": [
       "['id', 'name', 'lat', 'long', 'dock_count', 'city', 'installation_date']"
      ]
     },
     "execution_count": 7,
     "metadata": {},
     "output_type": "execute_result"
    }
   ],
   "source": [
    "schemas['station']"
   ]
  },
  {
   "cell_type": "code",
   "execution_count": 8,
   "metadata": {
    "colab": {
     "base_uri": "https://localhost:8080/",
     "height": 202
    },
    "id": "6HaRHKRxHrIW",
    "outputId": "1c36ab8d-1a8c-4517-f92f-d1485037ab77"
   },
   "outputs": [
    {
     "data": {
      "text/plain": [
       "['id',\n",
       " 'duration',\n",
       " 'start_date',\n",
       " 'start_station_name',\n",
       " 'start_station_id',\n",
       " 'end_date',\n",
       " 'end_station_name',\n",
       " 'end_station_id',\n",
       " 'bike_id',\n",
       " 'subscription_type',\n",
       " 'zip_code']"
      ]
     },
     "execution_count": 8,
     "metadata": {},
     "output_type": "execute_result"
    }
   ],
   "source": [
    "schemas['trip']"
   ]
  },
  {
   "cell_type": "code",
   "execution_count": 9,
   "metadata": {
    "colab": {
     "base_uri": "https://localhost:8080/",
     "height": 34
    },
    "id": "R8YyEW51IDG2",
    "outputId": "f75ea231-993a-4303-cda2-8d32d5e5f87f"
   },
   "outputs": [
    {
     "data": {
      "text/plain": [
       "['station_id', 'bikes_available', 'docks_available', 'time']"
      ]
     },
     "execution_count": 9,
     "metadata": {},
     "output_type": "execute_result"
    }
   ],
   "source": [
    "schemas['status']"
   ]
  },
  {
   "cell_type": "code",
   "execution_count": 10,
   "metadata": {
    "colab": {
     "base_uri": "https://localhost:8080/",
     "height": 420
    },
    "id": "ZU3_qLv2IGmt",
    "outputId": "a82fc39b-eec8-4ea8-c43d-6f12a07bb6f1"
   },
   "outputs": [
    {
     "data": {
      "text/plain": [
       "['date',\n",
       " 'max_temperature_f',\n",
       " 'mean_temperature_f',\n",
       " 'min_temperature_f',\n",
       " 'max_dew_point_f',\n",
       " 'mean_dew_point_f',\n",
       " 'min_dew_point_f',\n",
       " 'max_humidity',\n",
       " 'mean_humidity',\n",
       " 'min_humidity',\n",
       " 'max_sea_level_pressure_inches',\n",
       " 'mean_sea_level_pressure_inches',\n",
       " 'min_sea_level_pressure_inches',\n",
       " 'max_visibility_miles',\n",
       " 'mean_visibility_miles',\n",
       " 'min_visibility_miles',\n",
       " 'max_wind_Speed_mph',\n",
       " 'mean_wind_speed_mph',\n",
       " 'max_gust_speed_mph',\n",
       " 'precipitation_inches',\n",
       " 'cloud_cover',\n",
       " 'events',\n",
       " 'wind_dir_degrees',\n",
       " 'zip_code']"
      ]
     },
     "execution_count": 10,
     "metadata": {},
     "output_type": "execute_result"
    }
   ],
   "source": [
    "schemas['weather']"
   ]
  },
  {
   "cell_type": "markdown",
   "metadata": {
    "id": "tu3nUnBWKRYZ"
   },
   "source": [
    "## 4. Fetch altitude information\n",
    "\n",
    "One of things I think missing is info about altitudes. It might bring additional information about bike travel times."
   ]
  },
  {
   "cell_type": "code",
   "execution_count": 11,
   "metadata": {
    "colab": {
     "base_uri": "https://localhost:8080/",
     "height": 34
    },
    "id": "LTCOl9ZQK_eP",
    "outputId": "a641ef3c-d93d-49ab-c130-e5a60dc6488a"
   },
   "outputs": [
    {
     "data": {
      "text/plain": [
       "[(70,)]"
      ]
     },
     "execution_count": 11,
     "metadata": {},
     "output_type": "execute_result"
    }
   ],
   "source": [
    "cur.execute('select count(distinct id) from station').fetchall()"
   ]
  },
  {
   "cell_type": "code",
   "execution_count": 12,
   "metadata": {
    "id": "FiRi7gOnL4DC"
   },
   "outputs": [],
   "source": [
    "cur.execute('select distinct id, lat, long from station')\n",
    "coords = cur.fetchall()"
   ]
  },
  {
   "cell_type": "code",
   "execution_count": 13,
   "metadata": {
    "colab": {
     "base_uri": "https://localhost:8080/",
     "height": 34
    },
    "id": "bRPN1BIUMHdz",
    "outputId": "7b003231-b089-491b-a187-22ff587b9a15"
   },
   "outputs": [
    {
     "data": {
      "text/plain": [
       "70"
      ]
     },
     "execution_count": 13,
     "metadata": {},
     "output_type": "execute_result"
    }
   ],
   "source": [
    "len(coords)"
   ]
  },
  {
   "cell_type": "markdown",
   "metadata": {
    "id": "X04stVnTMMwP"
   },
   "source": [
    "Now export and build scraper (will be in utils.py) and start EDA in another notebook !"
   ]
  },
  {
   "cell_type": "code",
   "execution_count": 14,
   "metadata": {
    "id": "au9pXEsfNZDZ"
   },
   "outputs": [],
   "source": [
    "payload = {}\n",
    "\n",
    "for coord in coords:\n",
    "  payload[coord[0]] = [coord[1], coord[2]]"
   ]
  },
  {
   "cell_type": "code",
   "execution_count": 15,
   "metadata": {
    "id": "dZpYOKJANxQH"
   },
   "outputs": [],
   "source": [
    "with open(os.path.join(output_data_path, 'coordinates.json')  , 'w') as file:\n",
    "  json.dump(payload, file)"
   ]
  },
  {
   "cell_type": "markdown",
   "metadata": {
    "id": "Y_0me6qoTnlh"
   },
   "source": [
    "## 5. Merge data\n",
    "\n",
    "We've scraped altitude data using [Google Elevation API](https://developers.google.com/maps/documentation/elevation/intro). Now it's time to merge all data together. We will not be using 'status' table - it seems like redundand information for this task."
   ]
  },
  {
   "cell_type": "code",
   "execution_count": 16,
   "metadata": {
    "id": "EY9QjfvNWX64"
   },
   "outputs": [],
   "source": [
    "trips = pd.read_sql_query('select * from trip', con)\n",
    "stations = pd.read_sql_query('select * from station', con)\n",
    "weather = pd.read_sql_query('select * from weather', con)"
   ]
  },
  {
   "cell_type": "markdown",
   "metadata": {
    "id": "EiaSh3UFXtYL"
   },
   "source": [
    "### 5.1. Map altitudes to stations"
   ]
  },
  {
   "cell_type": "code",
   "execution_count": 17,
   "metadata": {
    "colab": {
     "base_uri": "https://localhost:8080/",
     "height": 34
    },
    "id": "ZX_um2V_XdxM",
    "outputId": "8ea13323-f76f-4e6b-9994-25b87557328b"
   },
   "outputs": [
    {
     "data": {
      "text/plain": [
       "(70, 7)"
      ]
     },
     "execution_count": 17,
     "metadata": {},
     "output_type": "execute_result"
    }
   ],
   "source": [
    "stations.shape"
   ]
  },
  {
   "cell_type": "code",
   "execution_count": 18,
   "metadata": {
    "colab": {
     "base_uri": "https://localhost:8080/",
     "height": 195
    },
    "id": "Biq9LBPsXzyZ",
    "outputId": "e167a035-1b17-47e1-c94a-c235ec11920d"
   },
   "outputs": [
    {
     "data": {
      "text/html": [
       "<div>\n",
       "<style scoped>\n",
       "    .dataframe tbody tr th:only-of-type {\n",
       "        vertical-align: middle;\n",
       "    }\n",
       "\n",
       "    .dataframe tbody tr th {\n",
       "        vertical-align: top;\n",
       "    }\n",
       "\n",
       "    .dataframe thead th {\n",
       "        text-align: right;\n",
       "    }\n",
       "</style>\n",
       "<table border=\"1\" class=\"dataframe\">\n",
       "  <thead>\n",
       "    <tr style=\"text-align: right;\">\n",
       "      <th></th>\n",
       "      <th>id</th>\n",
       "      <th>name</th>\n",
       "      <th>lat</th>\n",
       "      <th>long</th>\n",
       "      <th>dock_count</th>\n",
       "      <th>city</th>\n",
       "      <th>installation_date</th>\n",
       "    </tr>\n",
       "  </thead>\n",
       "  <tbody>\n",
       "    <tr>\n",
       "      <th>0</th>\n",
       "      <td>2</td>\n",
       "      <td>San Jose Diridon Caltrain Station</td>\n",
       "      <td>37.329732</td>\n",
       "      <td>-121.901782</td>\n",
       "      <td>27</td>\n",
       "      <td>San Jose</td>\n",
       "      <td>8/6/2013</td>\n",
       "    </tr>\n",
       "    <tr>\n",
       "      <th>1</th>\n",
       "      <td>3</td>\n",
       "      <td>San Jose Civic Center</td>\n",
       "      <td>37.330698</td>\n",
       "      <td>-121.888979</td>\n",
       "      <td>15</td>\n",
       "      <td>San Jose</td>\n",
       "      <td>8/5/2013</td>\n",
       "    </tr>\n",
       "    <tr>\n",
       "      <th>2</th>\n",
       "      <td>4</td>\n",
       "      <td>Santa Clara at Almaden</td>\n",
       "      <td>37.333988</td>\n",
       "      <td>-121.894902</td>\n",
       "      <td>11</td>\n",
       "      <td>San Jose</td>\n",
       "      <td>8/6/2013</td>\n",
       "    </tr>\n",
       "    <tr>\n",
       "      <th>3</th>\n",
       "      <td>5</td>\n",
       "      <td>Adobe on Almaden</td>\n",
       "      <td>37.331415</td>\n",
       "      <td>-121.893200</td>\n",
       "      <td>19</td>\n",
       "      <td>San Jose</td>\n",
       "      <td>8/5/2013</td>\n",
       "    </tr>\n",
       "    <tr>\n",
       "      <th>4</th>\n",
       "      <td>6</td>\n",
       "      <td>San Pedro Square</td>\n",
       "      <td>37.336721</td>\n",
       "      <td>-121.894074</td>\n",
       "      <td>15</td>\n",
       "      <td>San Jose</td>\n",
       "      <td>8/7/2013</td>\n",
       "    </tr>\n",
       "  </tbody>\n",
       "</table>\n",
       "</div>"
      ],
      "text/plain": [
       "   id                               name        lat        long  dock_count  \\\n",
       "0   2  San Jose Diridon Caltrain Station  37.329732 -121.901782          27   \n",
       "1   3              San Jose Civic Center  37.330698 -121.888979          15   \n",
       "2   4             Santa Clara at Almaden  37.333988 -121.894902          11   \n",
       "3   5                   Adobe on Almaden  37.331415 -121.893200          19   \n",
       "4   6                   San Pedro Square  37.336721 -121.894074          15   \n",
       "\n",
       "       city installation_date  \n",
       "0  San Jose          8/6/2013  \n",
       "1  San Jose          8/5/2013  \n",
       "2  San Jose          8/6/2013  \n",
       "3  San Jose          8/5/2013  \n",
       "4  San Jose          8/7/2013  "
      ]
     },
     "execution_count": 18,
     "metadata": {},
     "output_type": "execute_result"
    }
   ],
   "source": [
    "stations.head()"
   ]
  },
  {
   "cell_type": "code",
   "execution_count": 19,
   "metadata": {
    "id": "l92-J7RxX13R"
   },
   "outputs": [],
   "source": [
    "alt = pd.read_json(os.path.join(\"../data/external\", 'coordinate-altitudes.json') , orient='index')\n",
    "alt.reset_index(inplace=True)\n",
    "alt.columns = ['id', 'data', 'altitude',]"
   ]
  },
  {
   "cell_type": "code",
   "execution_count": 20,
   "metadata": {},
   "outputs": [
    {
     "data": {
      "text/html": [
       "<div>\n",
       "<style scoped>\n",
       "    .dataframe tbody tr th:only-of-type {\n",
       "        vertical-align: middle;\n",
       "    }\n",
       "\n",
       "    .dataframe tbody tr th {\n",
       "        vertical-align: top;\n",
       "    }\n",
       "\n",
       "    .dataframe thead th {\n",
       "        text-align: right;\n",
       "    }\n",
       "</style>\n",
       "<table border=\"1\" class=\"dataframe\">\n",
       "  <thead>\n",
       "    <tr style=\"text-align: right;\">\n",
       "      <th></th>\n",
       "      <th>id</th>\n",
       "      <th>data</th>\n",
       "      <th>altitude</th>\n",
       "    </tr>\n",
       "  </thead>\n",
       "  <tbody>\n",
       "    <tr>\n",
       "      <th>0</th>\n",
       "      <td>2</td>\n",
       "      <td>[37.329732, -121.90178200000001]</td>\n",
       "      <td>28.275824</td>\n",
       "    </tr>\n",
       "    <tr>\n",
       "      <th>1</th>\n",
       "      <td>3</td>\n",
       "      <td>[37.330698, -121.888979]</td>\n",
       "      <td>28.038095</td>\n",
       "    </tr>\n",
       "    <tr>\n",
       "      <th>2</th>\n",
       "      <td>4</td>\n",
       "      <td>[37.333988, -121.894902]</td>\n",
       "      <td>25.517740</td>\n",
       "    </tr>\n",
       "    <tr>\n",
       "      <th>3</th>\n",
       "      <td>5</td>\n",
       "      <td>[37.331415, -121.8932]</td>\n",
       "      <td>26.192633</td>\n",
       "    </tr>\n",
       "    <tr>\n",
       "      <th>4</th>\n",
       "      <td>6</td>\n",
       "      <td>[37.336721000000004, -121.894074]</td>\n",
       "      <td>25.543407</td>\n",
       "    </tr>\n",
       "  </tbody>\n",
       "</table>\n",
       "</div>"
      ],
      "text/plain": [
       "   id                               data   altitude\n",
       "0   2   [37.329732, -121.90178200000001]  28.275824\n",
       "1   3           [37.330698, -121.888979]  28.038095\n",
       "2   4           [37.333988, -121.894902]  25.517740\n",
       "3   5             [37.331415, -121.8932]  26.192633\n",
       "4   6  [37.336721000000004, -121.894074]  25.543407"
      ]
     },
     "execution_count": 20,
     "metadata": {},
     "output_type": "execute_result"
    }
   ],
   "source": [
    "alt.head()"
   ]
  },
  {
   "cell_type": "code",
   "execution_count": 21,
   "metadata": {
    "id": "dXJWMoo3Y6Ts"
   },
   "outputs": [],
   "source": [
    "altstations = pd.merge(stations, alt, how='left', on='id')\n",
    "altstations = altstations.drop(['data'], axis=1)"
   ]
  },
  {
   "cell_type": "code",
   "execution_count": 22,
   "metadata": {
    "colab": {
     "base_uri": "https://localhost:8080/",
     "height": 195
    },
    "id": "2Xx4sEhuasDi",
    "outputId": "0ded5620-4c38-4a70-acd4-b9c0f4a03665"
   },
   "outputs": [
    {
     "data": {
      "text/html": [
       "<div>\n",
       "<style scoped>\n",
       "    .dataframe tbody tr th:only-of-type {\n",
       "        vertical-align: middle;\n",
       "    }\n",
       "\n",
       "    .dataframe tbody tr th {\n",
       "        vertical-align: top;\n",
       "    }\n",
       "\n",
       "    .dataframe thead th {\n",
       "        text-align: right;\n",
       "    }\n",
       "</style>\n",
       "<table border=\"1\" class=\"dataframe\">\n",
       "  <thead>\n",
       "    <tr style=\"text-align: right;\">\n",
       "      <th></th>\n",
       "      <th>id</th>\n",
       "      <th>name</th>\n",
       "      <th>lat</th>\n",
       "      <th>long</th>\n",
       "      <th>dock_count</th>\n",
       "      <th>city</th>\n",
       "      <th>installation_date</th>\n",
       "      <th>altitude</th>\n",
       "    </tr>\n",
       "  </thead>\n",
       "  <tbody>\n",
       "    <tr>\n",
       "      <th>65</th>\n",
       "      <td>77</td>\n",
       "      <td>Market at Sansome</td>\n",
       "      <td>37.789625</td>\n",
       "      <td>-122.400811</td>\n",
       "      <td>27</td>\n",
       "      <td>San Francisco</td>\n",
       "      <td>8/25/2013</td>\n",
       "      <td>7.888969</td>\n",
       "    </tr>\n",
       "    <tr>\n",
       "      <th>66</th>\n",
       "      <td>80</td>\n",
       "      <td>Santa Clara County Civic Center</td>\n",
       "      <td>37.352601</td>\n",
       "      <td>-121.905733</td>\n",
       "      <td>15</td>\n",
       "      <td>San Jose</td>\n",
       "      <td>12/31/2013</td>\n",
       "      <td>18.939966</td>\n",
       "    </tr>\n",
       "    <tr>\n",
       "      <th>67</th>\n",
       "      <td>82</td>\n",
       "      <td>Broadway St at Battery St</td>\n",
       "      <td>37.798541</td>\n",
       "      <td>-122.400862</td>\n",
       "      <td>15</td>\n",
       "      <td>San Francisco</td>\n",
       "      <td>1/22/2014</td>\n",
       "      <td>6.239827</td>\n",
       "    </tr>\n",
       "    <tr>\n",
       "      <th>68</th>\n",
       "      <td>83</td>\n",
       "      <td>Mezes Park</td>\n",
       "      <td>37.491269</td>\n",
       "      <td>-122.236234</td>\n",
       "      <td>15</td>\n",
       "      <td>Redwood City</td>\n",
       "      <td>2/20/2014</td>\n",
       "      <td>3.690954</td>\n",
       "    </tr>\n",
       "    <tr>\n",
       "      <th>69</th>\n",
       "      <td>84</td>\n",
       "      <td>Ryland Park</td>\n",
       "      <td>37.342725</td>\n",
       "      <td>-121.895617</td>\n",
       "      <td>15</td>\n",
       "      <td>San Jose</td>\n",
       "      <td>4/9/2014</td>\n",
       "      <td>24.346684</td>\n",
       "    </tr>\n",
       "  </tbody>\n",
       "</table>\n",
       "</div>"
      ],
      "text/plain": [
       "    id                             name        lat        long  dock_count  \\\n",
       "65  77                Market at Sansome  37.789625 -122.400811          27   \n",
       "66  80  Santa Clara County Civic Center  37.352601 -121.905733          15   \n",
       "67  82        Broadway St at Battery St  37.798541 -122.400862          15   \n",
       "68  83                       Mezes Park  37.491269 -122.236234          15   \n",
       "69  84                      Ryland Park  37.342725 -121.895617          15   \n",
       "\n",
       "             city installation_date   altitude  \n",
       "65  San Francisco         8/25/2013   7.888969  \n",
       "66       San Jose        12/31/2013  18.939966  \n",
       "67  San Francisco         1/22/2014   6.239827  \n",
       "68   Redwood City         2/20/2014   3.690954  \n",
       "69       San Jose          4/9/2014  24.346684  "
      ]
     },
     "execution_count": 22,
     "metadata": {},
     "output_type": "execute_result"
    }
   ],
   "source": [
    "altstations.tail()"
   ]
  },
  {
   "cell_type": "markdown",
   "metadata": {
    "id": "WyPT2r56bMSf"
   },
   "source": [
    "### 5.2 Map stations to trips\n",
    "\n",
    "Note to self - duration is in seconds !"
   ]
  },
  {
   "cell_type": "code",
   "execution_count": 23,
   "metadata": {
    "colab": {
     "base_uri": "https://localhost:8080/",
     "height": 195
    },
    "id": "Req_D9g_bQm7",
    "outputId": "644710ac-7acd-4fd4-d948-19de6a890c1c"
   },
   "outputs": [
    {
     "data": {
      "text/html": [
       "<div>\n",
       "<style scoped>\n",
       "    .dataframe tbody tr th:only-of-type {\n",
       "        vertical-align: middle;\n",
       "    }\n",
       "\n",
       "    .dataframe tbody tr th {\n",
       "        vertical-align: top;\n",
       "    }\n",
       "\n",
       "    .dataframe thead th {\n",
       "        text-align: right;\n",
       "    }\n",
       "</style>\n",
       "<table border=\"1\" class=\"dataframe\">\n",
       "  <thead>\n",
       "    <tr style=\"text-align: right;\">\n",
       "      <th></th>\n",
       "      <th>id</th>\n",
       "      <th>duration</th>\n",
       "      <th>start_date</th>\n",
       "      <th>start_station_name</th>\n",
       "      <th>start_station_id</th>\n",
       "      <th>end_date</th>\n",
       "      <th>end_station_name</th>\n",
       "      <th>end_station_id</th>\n",
       "      <th>bike_id</th>\n",
       "      <th>subscription_type</th>\n",
       "      <th>zip_code</th>\n",
       "    </tr>\n",
       "  </thead>\n",
       "  <tbody>\n",
       "    <tr>\n",
       "      <th>0</th>\n",
       "      <td>4069</td>\n",
       "      <td>174</td>\n",
       "      <td>8/29/2013 9:08</td>\n",
       "      <td>2nd at South Park</td>\n",
       "      <td>64</td>\n",
       "      <td>8/29/2013 9:11</td>\n",
       "      <td>2nd at South Park</td>\n",
       "      <td>64</td>\n",
       "      <td>288</td>\n",
       "      <td>Subscriber</td>\n",
       "      <td>94114</td>\n",
       "    </tr>\n",
       "    <tr>\n",
       "      <th>1</th>\n",
       "      <td>4073</td>\n",
       "      <td>1067</td>\n",
       "      <td>8/29/2013 9:24</td>\n",
       "      <td>South Van Ness at Market</td>\n",
       "      <td>66</td>\n",
       "      <td>8/29/2013 9:42</td>\n",
       "      <td>San Francisco Caltrain 2 (330 Townsend)</td>\n",
       "      <td>69</td>\n",
       "      <td>321</td>\n",
       "      <td>Subscriber</td>\n",
       "      <td>94703</td>\n",
       "    </tr>\n",
       "    <tr>\n",
       "      <th>2</th>\n",
       "      <td>4074</td>\n",
       "      <td>1131</td>\n",
       "      <td>8/29/2013 9:24</td>\n",
       "      <td>South Van Ness at Market</td>\n",
       "      <td>66</td>\n",
       "      <td>8/29/2013 9:43</td>\n",
       "      <td>San Francisco Caltrain 2 (330 Townsend)</td>\n",
       "      <td>69</td>\n",
       "      <td>317</td>\n",
       "      <td>Subscriber</td>\n",
       "      <td>94115</td>\n",
       "    </tr>\n",
       "    <tr>\n",
       "      <th>3</th>\n",
       "      <td>4075</td>\n",
       "      <td>1117</td>\n",
       "      <td>8/29/2013 9:24</td>\n",
       "      <td>South Van Ness at Market</td>\n",
       "      <td>66</td>\n",
       "      <td>8/29/2013 9:43</td>\n",
       "      <td>San Francisco Caltrain 2 (330 Townsend)</td>\n",
       "      <td>69</td>\n",
       "      <td>316</td>\n",
       "      <td>Subscriber</td>\n",
       "      <td>94122</td>\n",
       "    </tr>\n",
       "    <tr>\n",
       "      <th>4</th>\n",
       "      <td>4076</td>\n",
       "      <td>1118</td>\n",
       "      <td>8/29/2013 9:25</td>\n",
       "      <td>South Van Ness at Market</td>\n",
       "      <td>66</td>\n",
       "      <td>8/29/2013 9:43</td>\n",
       "      <td>San Francisco Caltrain 2 (330 Townsend)</td>\n",
       "      <td>69</td>\n",
       "      <td>322</td>\n",
       "      <td>Subscriber</td>\n",
       "      <td>94597</td>\n",
       "    </tr>\n",
       "  </tbody>\n",
       "</table>\n",
       "</div>"
      ],
      "text/plain": [
       "     id  duration      start_date        start_station_name  start_station_id  \\\n",
       "0  4069       174  8/29/2013 9:08         2nd at South Park                64   \n",
       "1  4073      1067  8/29/2013 9:24  South Van Ness at Market                66   \n",
       "2  4074      1131  8/29/2013 9:24  South Van Ness at Market                66   \n",
       "3  4075      1117  8/29/2013 9:24  South Van Ness at Market                66   \n",
       "4  4076      1118  8/29/2013 9:25  South Van Ness at Market                66   \n",
       "\n",
       "         end_date                         end_station_name  end_station_id  \\\n",
       "0  8/29/2013 9:11                        2nd at South Park              64   \n",
       "1  8/29/2013 9:42  San Francisco Caltrain 2 (330 Townsend)              69   \n",
       "2  8/29/2013 9:43  San Francisco Caltrain 2 (330 Townsend)              69   \n",
       "3  8/29/2013 9:43  San Francisco Caltrain 2 (330 Townsend)              69   \n",
       "4  8/29/2013 9:43  San Francisco Caltrain 2 (330 Townsend)              69   \n",
       "\n",
       "   bike_id subscription_type zip_code  \n",
       "0      288        Subscriber    94114  \n",
       "1      321        Subscriber    94703  \n",
       "2      317        Subscriber    94115  \n",
       "3      316        Subscriber    94122  \n",
       "4      322        Subscriber    94597  "
      ]
     },
     "execution_count": 23,
     "metadata": {},
     "output_type": "execute_result"
    }
   ],
   "source": [
    "trips.head()"
   ]
  },
  {
   "cell_type": "code",
   "execution_count": 24,
   "metadata": {
    "id": "t3scSFYKcsFV"
   },
   "outputs": [],
   "source": [
    "startstations = altstations[['id', 'lat', 'long', 'altitude']]\n",
    "stopstations = altstations[['id', 'lat', 'long', 'altitude']]"
   ]
  },
  {
   "cell_type": "code",
   "execution_count": 25,
   "metadata": {
    "id": "8LM1HucdfA_Y"
   },
   "outputs": [],
   "source": [
    "startstations.columns = ['start_station_id', 'start_lat', 'start_long', 'start_alt']\n",
    "stopstations.columns = ['end_station_id', 'end_lat', 'end_long', 'end_alt']"
   ]
  },
  {
   "cell_type": "code",
   "execution_count": 26,
   "metadata": {
    "id": "cfPUJjUffVVJ"
   },
   "outputs": [],
   "source": [
    "trips = pd.merge(trips, startstations, how='left', on='start_station_id')\n",
    "trips = pd.merge(trips, stopstations, how='left', on='end_station_id')"
   ]
  },
  {
   "cell_type": "markdown",
   "metadata": {
    "id": "rG4v1MEifx4d"
   },
   "source": [
    "### 5.3. Add some weather data\n",
    "\n",
    "There are two keys - date and zip code"
   ]
  },
  {
   "cell_type": "code",
   "execution_count": 27,
   "metadata": {
    "colab": {
     "base_uri": "https://localhost:8080/",
     "height": 215
    },
    "id": "rKF3szJrhGcu",
    "outputId": "d875f114-0cab-4d3f-f3d9-3f4a5ae25df6"
   },
   "outputs": [
    {
     "data": {
      "text/html": [
       "<div>\n",
       "<style scoped>\n",
       "    .dataframe tbody tr th:only-of-type {\n",
       "        vertical-align: middle;\n",
       "    }\n",
       "\n",
       "    .dataframe tbody tr th {\n",
       "        vertical-align: top;\n",
       "    }\n",
       "\n",
       "    .dataframe thead th {\n",
       "        text-align: right;\n",
       "    }\n",
       "</style>\n",
       "<table border=\"1\" class=\"dataframe\">\n",
       "  <thead>\n",
       "    <tr style=\"text-align: right;\">\n",
       "      <th></th>\n",
       "      <th>date</th>\n",
       "      <th>max_temperature_f</th>\n",
       "      <th>mean_temperature_f</th>\n",
       "      <th>min_temperature_f</th>\n",
       "      <th>max_dew_point_f</th>\n",
       "      <th>mean_dew_point_f</th>\n",
       "      <th>min_dew_point_f</th>\n",
       "      <th>max_humidity</th>\n",
       "      <th>mean_humidity</th>\n",
       "      <th>min_humidity</th>\n",
       "      <th>...</th>\n",
       "      <th>mean_visibility_miles</th>\n",
       "      <th>min_visibility_miles</th>\n",
       "      <th>max_wind_Speed_mph</th>\n",
       "      <th>mean_wind_speed_mph</th>\n",
       "      <th>max_gust_speed_mph</th>\n",
       "      <th>precipitation_inches</th>\n",
       "      <th>cloud_cover</th>\n",
       "      <th>events</th>\n",
       "      <th>wind_dir_degrees</th>\n",
       "      <th>zip_code</th>\n",
       "    </tr>\n",
       "  </thead>\n",
       "  <tbody>\n",
       "    <tr>\n",
       "      <th>0</th>\n",
       "      <td>8/29/2013</td>\n",
       "      <td>74</td>\n",
       "      <td>68</td>\n",
       "      <td>61</td>\n",
       "      <td>61</td>\n",
       "      <td>58</td>\n",
       "      <td>56</td>\n",
       "      <td>93</td>\n",
       "      <td>75</td>\n",
       "      <td>57</td>\n",
       "      <td>...</td>\n",
       "      <td>10</td>\n",
       "      <td>10</td>\n",
       "      <td>23</td>\n",
       "      <td>11</td>\n",
       "      <td>28</td>\n",
       "      <td>0</td>\n",
       "      <td>4</td>\n",
       "      <td></td>\n",
       "      <td>286</td>\n",
       "      <td>94107</td>\n",
       "    </tr>\n",
       "    <tr>\n",
       "      <th>1</th>\n",
       "      <td>8/30/2013</td>\n",
       "      <td>78</td>\n",
       "      <td>69</td>\n",
       "      <td>60</td>\n",
       "      <td>61</td>\n",
       "      <td>58</td>\n",
       "      <td>56</td>\n",
       "      <td>90</td>\n",
       "      <td>70</td>\n",
       "      <td>50</td>\n",
       "      <td>...</td>\n",
       "      <td>10</td>\n",
       "      <td>7</td>\n",
       "      <td>29</td>\n",
       "      <td>13</td>\n",
       "      <td>35</td>\n",
       "      <td>0</td>\n",
       "      <td>2</td>\n",
       "      <td></td>\n",
       "      <td>291</td>\n",
       "      <td>94107</td>\n",
       "    </tr>\n",
       "    <tr>\n",
       "      <th>2</th>\n",
       "      <td>8/31/2013</td>\n",
       "      <td>71</td>\n",
       "      <td>64</td>\n",
       "      <td>57</td>\n",
       "      <td>57</td>\n",
       "      <td>56</td>\n",
       "      <td>54</td>\n",
       "      <td>93</td>\n",
       "      <td>75</td>\n",
       "      <td>57</td>\n",
       "      <td>...</td>\n",
       "      <td>10</td>\n",
       "      <td>10</td>\n",
       "      <td>26</td>\n",
       "      <td>15</td>\n",
       "      <td>31</td>\n",
       "      <td>0</td>\n",
       "      <td>4</td>\n",
       "      <td></td>\n",
       "      <td>284</td>\n",
       "      <td>94107</td>\n",
       "    </tr>\n",
       "    <tr>\n",
       "      <th>3</th>\n",
       "      <td>9/1/2013</td>\n",
       "      <td>74</td>\n",
       "      <td>66</td>\n",
       "      <td>58</td>\n",
       "      <td>60</td>\n",
       "      <td>56</td>\n",
       "      <td>53</td>\n",
       "      <td>87</td>\n",
       "      <td>68</td>\n",
       "      <td>49</td>\n",
       "      <td>...</td>\n",
       "      <td>10</td>\n",
       "      <td>10</td>\n",
       "      <td>25</td>\n",
       "      <td>13</td>\n",
       "      <td>29</td>\n",
       "      <td>0</td>\n",
       "      <td>4</td>\n",
       "      <td></td>\n",
       "      <td>284</td>\n",
       "      <td>94107</td>\n",
       "    </tr>\n",
       "    <tr>\n",
       "      <th>4</th>\n",
       "      <td>9/2/2013</td>\n",
       "      <td>75</td>\n",
       "      <td>69</td>\n",
       "      <td>62</td>\n",
       "      <td>61</td>\n",
       "      <td>60</td>\n",
       "      <td>58</td>\n",
       "      <td>93</td>\n",
       "      <td>77</td>\n",
       "      <td>61</td>\n",
       "      <td>...</td>\n",
       "      <td>10</td>\n",
       "      <td>6</td>\n",
       "      <td>23</td>\n",
       "      <td>12</td>\n",
       "      <td>30</td>\n",
       "      <td>0</td>\n",
       "      <td>6</td>\n",
       "      <td></td>\n",
       "      <td>277</td>\n",
       "      <td>94107</td>\n",
       "    </tr>\n",
       "  </tbody>\n",
       "</table>\n",
       "<p>5 rows × 24 columns</p>\n",
       "</div>"
      ],
      "text/plain": [
       "        date max_temperature_f mean_temperature_f min_temperature_f  \\\n",
       "0  8/29/2013                74                 68                61   \n",
       "1  8/30/2013                78                 69                60   \n",
       "2  8/31/2013                71                 64                57   \n",
       "3   9/1/2013                74                 66                58   \n",
       "4   9/2/2013                75                 69                62   \n",
       "\n",
       "  max_dew_point_f mean_dew_point_f min_dew_point_f max_humidity mean_humidity  \\\n",
       "0              61               58              56           93            75   \n",
       "1              61               58              56           90            70   \n",
       "2              57               56              54           93            75   \n",
       "3              60               56              53           87            68   \n",
       "4              61               60              58           93            77   \n",
       "\n",
       "  min_humidity  ... mean_visibility_miles min_visibility_miles  \\\n",
       "0           57  ...                    10                   10   \n",
       "1           50  ...                    10                    7   \n",
       "2           57  ...                    10                   10   \n",
       "3           49  ...                    10                   10   \n",
       "4           61  ...                    10                    6   \n",
       "\n",
       "  max_wind_Speed_mph mean_wind_speed_mph max_gust_speed_mph  \\\n",
       "0                 23                  11                 28   \n",
       "1                 29                  13                 35   \n",
       "2                 26                  15                 31   \n",
       "3                 25                  13                 29   \n",
       "4                 23                  12                 30   \n",
       "\n",
       "  precipitation_inches cloud_cover events wind_dir_degrees zip_code  \n",
       "0                    0           4                     286    94107  \n",
       "1                    0           2                     291    94107  \n",
       "2                    0           4                     284    94107  \n",
       "3                    0           4                     284    94107  \n",
       "4                    0           6                     277    94107  \n",
       "\n",
       "[5 rows x 24 columns]"
      ]
     },
     "execution_count": 27,
     "metadata": {},
     "output_type": "execute_result"
    }
   ],
   "source": [
    "weather.head()"
   ]
  },
  {
   "cell_type": "code",
   "execution_count": 28,
   "metadata": {
    "id": "7axFxhAZoabg"
   },
   "outputs": [],
   "source": [
    "trips['date'] = pd.to_datetime(trips['start_date'], format='%m/%d/%Y %H:%M')\n",
    "trips['date'] = trips['date'].apply(lambda x: x.date())"
   ]
  },
  {
   "cell_type": "code",
   "execution_count": 29,
   "metadata": {
    "id": "Wn3drfHIjF14"
   },
   "outputs": [],
   "source": [
    "weather['date'] = weather['date'].apply(lambda x: datetime.strptime(x, '%m/%d/%Y').date())"
   ]
  },
  {
   "cell_type": "code",
   "execution_count": 30,
   "metadata": {
    "id": "kf1NWocJox5n"
   },
   "outputs": [],
   "source": [
    "df = pd.merge(trips, weather, how='left', on=['date', 'zip_code'])"
   ]
  },
  {
   "cell_type": "code",
   "execution_count": 31,
   "metadata": {
    "colab": {
     "base_uri": "https://localhost:8080/",
     "height": 366
    },
    "id": "LfR1lj2bpX1f",
    "outputId": "ff0a6033-adbd-42a0-df3f-9f60b80c5525"
   },
   "outputs": [
    {
     "data": {
      "text/html": [
       "<div>\n",
       "<style scoped>\n",
       "    .dataframe tbody tr th:only-of-type {\n",
       "        vertical-align: middle;\n",
       "    }\n",
       "\n",
       "    .dataframe tbody tr th {\n",
       "        vertical-align: top;\n",
       "    }\n",
       "\n",
       "    .dataframe thead th {\n",
       "        text-align: right;\n",
       "    }\n",
       "</style>\n",
       "<table border=\"1\" class=\"dataframe\">\n",
       "  <thead>\n",
       "    <tr style=\"text-align: right;\">\n",
       "      <th></th>\n",
       "      <th>id</th>\n",
       "      <th>duration</th>\n",
       "      <th>start_date</th>\n",
       "      <th>start_station_name</th>\n",
       "      <th>start_station_id</th>\n",
       "      <th>end_date</th>\n",
       "      <th>end_station_name</th>\n",
       "      <th>end_station_id</th>\n",
       "      <th>bike_id</th>\n",
       "      <th>subscription_type</th>\n",
       "      <th>...</th>\n",
       "      <th>max_visibility_miles</th>\n",
       "      <th>mean_visibility_miles</th>\n",
       "      <th>min_visibility_miles</th>\n",
       "      <th>max_wind_Speed_mph</th>\n",
       "      <th>mean_wind_speed_mph</th>\n",
       "      <th>max_gust_speed_mph</th>\n",
       "      <th>precipitation_inches</th>\n",
       "      <th>cloud_cover</th>\n",
       "      <th>events</th>\n",
       "      <th>wind_dir_degrees</th>\n",
       "    </tr>\n",
       "  </thead>\n",
       "  <tbody>\n",
       "    <tr>\n",
       "      <th>0</th>\n",
       "      <td>4069</td>\n",
       "      <td>174</td>\n",
       "      <td>8/29/2013 9:08</td>\n",
       "      <td>2nd at South Park</td>\n",
       "      <td>64</td>\n",
       "      <td>8/29/2013 9:11</td>\n",
       "      <td>2nd at South Park</td>\n",
       "      <td>64</td>\n",
       "      <td>288</td>\n",
       "      <td>Subscriber</td>\n",
       "      <td>...</td>\n",
       "      <td>NaN</td>\n",
       "      <td>NaN</td>\n",
       "      <td>NaN</td>\n",
       "      <td>NaN</td>\n",
       "      <td>NaN</td>\n",
       "      <td>NaN</td>\n",
       "      <td>NaN</td>\n",
       "      <td>NaN</td>\n",
       "      <td>NaN</td>\n",
       "      <td>NaN</td>\n",
       "    </tr>\n",
       "    <tr>\n",
       "      <th>1</th>\n",
       "      <td>4073</td>\n",
       "      <td>1067</td>\n",
       "      <td>8/29/2013 9:24</td>\n",
       "      <td>South Van Ness at Market</td>\n",
       "      <td>66</td>\n",
       "      <td>8/29/2013 9:42</td>\n",
       "      <td>San Francisco Caltrain 2 (330 Townsend)</td>\n",
       "      <td>69</td>\n",
       "      <td>321</td>\n",
       "      <td>Subscriber</td>\n",
       "      <td>...</td>\n",
       "      <td>NaN</td>\n",
       "      <td>NaN</td>\n",
       "      <td>NaN</td>\n",
       "      <td>NaN</td>\n",
       "      <td>NaN</td>\n",
       "      <td>NaN</td>\n",
       "      <td>NaN</td>\n",
       "      <td>NaN</td>\n",
       "      <td>NaN</td>\n",
       "      <td>NaN</td>\n",
       "    </tr>\n",
       "    <tr>\n",
       "      <th>2</th>\n",
       "      <td>4074</td>\n",
       "      <td>1131</td>\n",
       "      <td>8/29/2013 9:24</td>\n",
       "      <td>South Van Ness at Market</td>\n",
       "      <td>66</td>\n",
       "      <td>8/29/2013 9:43</td>\n",
       "      <td>San Francisco Caltrain 2 (330 Townsend)</td>\n",
       "      <td>69</td>\n",
       "      <td>317</td>\n",
       "      <td>Subscriber</td>\n",
       "      <td>...</td>\n",
       "      <td>NaN</td>\n",
       "      <td>NaN</td>\n",
       "      <td>NaN</td>\n",
       "      <td>NaN</td>\n",
       "      <td>NaN</td>\n",
       "      <td>NaN</td>\n",
       "      <td>NaN</td>\n",
       "      <td>NaN</td>\n",
       "      <td>NaN</td>\n",
       "      <td>NaN</td>\n",
       "    </tr>\n",
       "    <tr>\n",
       "      <th>3</th>\n",
       "      <td>4075</td>\n",
       "      <td>1117</td>\n",
       "      <td>8/29/2013 9:24</td>\n",
       "      <td>South Van Ness at Market</td>\n",
       "      <td>66</td>\n",
       "      <td>8/29/2013 9:43</td>\n",
       "      <td>San Francisco Caltrain 2 (330 Townsend)</td>\n",
       "      <td>69</td>\n",
       "      <td>316</td>\n",
       "      <td>Subscriber</td>\n",
       "      <td>...</td>\n",
       "      <td>NaN</td>\n",
       "      <td>NaN</td>\n",
       "      <td>NaN</td>\n",
       "      <td>NaN</td>\n",
       "      <td>NaN</td>\n",
       "      <td>NaN</td>\n",
       "      <td>NaN</td>\n",
       "      <td>NaN</td>\n",
       "      <td>NaN</td>\n",
       "      <td>NaN</td>\n",
       "    </tr>\n",
       "    <tr>\n",
       "      <th>4</th>\n",
       "      <td>4076</td>\n",
       "      <td>1118</td>\n",
       "      <td>8/29/2013 9:25</td>\n",
       "      <td>South Van Ness at Market</td>\n",
       "      <td>66</td>\n",
       "      <td>8/29/2013 9:43</td>\n",
       "      <td>San Francisco Caltrain 2 (330 Townsend)</td>\n",
       "      <td>69</td>\n",
       "      <td>322</td>\n",
       "      <td>Subscriber</td>\n",
       "      <td>...</td>\n",
       "      <td>NaN</td>\n",
       "      <td>NaN</td>\n",
       "      <td>NaN</td>\n",
       "      <td>NaN</td>\n",
       "      <td>NaN</td>\n",
       "      <td>NaN</td>\n",
       "      <td>NaN</td>\n",
       "      <td>NaN</td>\n",
       "      <td>NaN</td>\n",
       "      <td>NaN</td>\n",
       "    </tr>\n",
       "  </tbody>\n",
       "</table>\n",
       "<p>5 rows × 40 columns</p>\n",
       "</div>"
      ],
      "text/plain": [
       "     id  duration      start_date        start_station_name  start_station_id  \\\n",
       "0  4069       174  8/29/2013 9:08         2nd at South Park                64   \n",
       "1  4073      1067  8/29/2013 9:24  South Van Ness at Market                66   \n",
       "2  4074      1131  8/29/2013 9:24  South Van Ness at Market                66   \n",
       "3  4075      1117  8/29/2013 9:24  South Van Ness at Market                66   \n",
       "4  4076      1118  8/29/2013 9:25  South Van Ness at Market                66   \n",
       "\n",
       "         end_date                         end_station_name  end_station_id  \\\n",
       "0  8/29/2013 9:11                        2nd at South Park              64   \n",
       "1  8/29/2013 9:42  San Francisco Caltrain 2 (330 Townsend)              69   \n",
       "2  8/29/2013 9:43  San Francisco Caltrain 2 (330 Townsend)              69   \n",
       "3  8/29/2013 9:43  San Francisco Caltrain 2 (330 Townsend)              69   \n",
       "4  8/29/2013 9:43  San Francisco Caltrain 2 (330 Townsend)              69   \n",
       "\n",
       "   bike_id subscription_type  ... max_visibility_miles  mean_visibility_miles  \\\n",
       "0      288        Subscriber  ...                  NaN                    NaN   \n",
       "1      321        Subscriber  ...                  NaN                    NaN   \n",
       "2      317        Subscriber  ...                  NaN                    NaN   \n",
       "3      316        Subscriber  ...                  NaN                    NaN   \n",
       "4      322        Subscriber  ...                  NaN                    NaN   \n",
       "\n",
       "   min_visibility_miles  max_wind_Speed_mph  mean_wind_speed_mph  \\\n",
       "0                   NaN                 NaN                  NaN   \n",
       "1                   NaN                 NaN                  NaN   \n",
       "2                   NaN                 NaN                  NaN   \n",
       "3                   NaN                 NaN                  NaN   \n",
       "4                   NaN                 NaN                  NaN   \n",
       "\n",
       "   max_gust_speed_mph  precipitation_inches cloud_cover events  \\\n",
       "0                 NaN                   NaN         NaN    NaN   \n",
       "1                 NaN                   NaN         NaN    NaN   \n",
       "2                 NaN                   NaN         NaN    NaN   \n",
       "3                 NaN                   NaN         NaN    NaN   \n",
       "4                 NaN                   NaN         NaN    NaN   \n",
       "\n",
       "  wind_dir_degrees  \n",
       "0              NaN  \n",
       "1              NaN  \n",
       "2              NaN  \n",
       "3              NaN  \n",
       "4              NaN  \n",
       "\n",
       "[5 rows x 40 columns]"
      ]
     },
     "execution_count": 31,
     "metadata": {},
     "output_type": "execute_result"
    }
   ],
   "source": [
    "df.head()"
   ]
  },
  {
   "cell_type": "code",
   "execution_count": 32,
   "metadata": {
    "id": "OMrXEUW6qPgb"
   },
   "outputs": [],
   "source": [
    "df.to_csv(os.path.join(output_data_path, 'sfbike_full.csv'), index=False)"
   ]
  },
  {
   "cell_type": "markdown",
   "metadata": {
    "id": "9XcYUkgEryPt"
   },
   "source": [
    "And that's all for this notebook !"
   ]
  },
  {
   "cell_type": "code",
   "execution_count": null,
   "metadata": {},
   "outputs": [],
   "source": []
  }
 ],
 "metadata": {
  "colab": {
   "collapsed_sections": [],
   "name": "fullstack.ai - Introduction",
   "provenance": []
  },
  "kernelspec": {
   "display_name": "Python 3",
   "language": "python",
   "name": "python3"
  },
  "language_info": {
   "codemirror_mode": {
    "name": "ipython",
    "version": 3
   },
   "file_extension": ".py",
   "mimetype": "text/x-python",
   "name": "python",
   "nbconvert_exporter": "python",
   "pygments_lexer": "ipython3",
   "version": "3.7.3"
  }
 },
 "nbformat": 4,
 "nbformat_minor": 4
}
